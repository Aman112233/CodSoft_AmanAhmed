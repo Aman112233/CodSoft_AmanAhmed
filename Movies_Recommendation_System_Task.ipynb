{
  "nbformat": 4,
  "nbformat_minor": 0,
  "metadata": {
    "colab": {
      "provenance": [],
      "gpuType": "T4"
    },
    "kernelspec": {
      "name": "python3",
      "display_name": "Python 3"
    },
    "language_info": {
      "name": "python"
    },
    "accelerator": "GPU"
  },
  "cells": [
    {
      "cell_type": "code",
      "execution_count": 11,
      "metadata": {
        "id": "CuB1CqNnB0uy"
      },
      "outputs": [],
      "source": [
        "import pandas as pd\n",
        "import numpy as np\n",
        "from sklearn.feature_extraction.text import TfidfVectorizer\n",
        "from sklearn.metrics.pairwise import linear_kernel, cosine_similarity\n",
        "\n",
        "# Load dataset from kaggle (IMDB Movies Dataset)\n",
        "data = pd.read_csv(\"movies.csv\")\n",
        "data = data.fillna('')\n",
        "\n",
        "\n",
        "data['features'] = data['Genre'] + ' ' + data['IMDB_Rating'].astype(str) + ' ' + \\\n",
        "                   data['Meta_score'].astype(str) + ' ' + data['No_of_Votes'].astype(str) + ' ' + \\\n",
        "                   data['Gross'].astype(str) + ' ' + data['Released_Year'].astype(str)\n",
        "\n",
        "tfidf = TfidfVectorizer(stop_words='english')\n",
        "tfidf_matrix = tfidf.fit_transform(data['features'])\n",
        "\n",
        "cosine_sim = linear_kernel(tfidf_matrix, tfidf_matrix)\n",
        "\n",
        "if 'IMDB_Rating' in data.columns:\n",
        "    user_item_matrix = data.pivot_table(index='Series_Title', values='IMDB_Rating', aggfunc='mean').fillna(0)\n",
        "    collab_sim = cosine_similarity(user_item_matrix)\n",
        "    collab_sim_df = pd.DataFrame(collab_sim, index=user_item_matrix.index, columns=user_item_matrix.index)\n",
        "\n",
        "def get_recommendations(title, cosine_sim=cosine_sim):\n",
        "    \"\"\"Returns top 5 content-based recommendations for a given movie.\"\"\"\n",
        "    if title not in data['Series_Title'].values:\n",
        "        return [\"Movie not found in database\"]\n",
        "\n",
        "    idx = data[data['Series_Title'] == title].index[0]\n",
        "    sim_scores = list(enumerate(cosine_sim[idx]))\n",
        "    sim_scores = sorted(sim_scores, key=lambda x: x[1], reverse=True)\n",
        "    sim_scores = sim_scores[1:6]  # Get top 5 similar movies\n",
        "    movie_indices = [i[0] for i in sim_scores]\n",
        "    return data['Series_Title'].iloc[movie_indices].tolist()\n",
        "\n",
        "def get_collaborative_recommendations(title):\n",
        "    \"\"\"Returns top 5 collaborative-based recommendations based on IMDB rating.\"\"\"\n",
        "    if title not in collab_sim_df.index:\n",
        "        return [\"Movie not found in rating database\"]\n",
        "\n",
        "    similar_movies = collab_sim_df[title].sort_values(ascending=False)[1:6]  # Top 5 movies\n",
        "    return similar_movies.index.tolist()\n",
        "\n",
        "def get_genre_recommendations(genre):\n",
        "    \"\"\"Returns top 5 movies in a genre sorted by IMDB rating.\"\"\"\n",
        "    genre_movies = data[data['Genre'].str.contains(genre, case=False, na=False)]\n",
        "    return genre_movies.sort_values(by='IMDB_Rating', ascending=False)['Series_Title'].head(5).tolist()"
      ]
    },
    {
      "cell_type": "code",
      "source": [
        "# Example Usage\n",
        "movie_title = 'Inception'\n",
        "user_genre = 'Comedy'\n",
        "\n",
        "print(f\"\\nTop 5 Movies Similar to '{movie_title}' (Content-Based):\")\n",
        "print(get_recommendations(movie_title))\n",
        "\n",
        "print(f\"\\nTop 5 Movies Similar to '{movie_title}' (Collaborative Filtering):\")\n",
        "print(get_collaborative_recommendations(movie_title))\n",
        "\n",
        "print(f\"\\nTop 5 Movies in '{user_genre}' Genre (Based on IMDB Rating):\")\n",
        "print(get_genre_recommendations(user_genre))"
      ],
      "metadata": {
        "colab": {
          "base_uri": "https://localhost:8080/"
        },
        "id": "C2JUQF6tac9m",
        "outputId": "9b9cf453-eef0-40ee-a070-200879fd4b26"
      },
      "execution_count": 12,
      "outputs": [
        {
          "output_type": "stream",
          "name": "stdout",
          "text": [
            "\n",
            "Top 5 Movies Similar to 'Inception' (Content-Based):\n",
            "['Serenity', 'Interstellar', 'G.O.R.A.', 'Twelve Monkeys', 'Madeo']\n",
            "\n",
            "Top 5 Movies Similar to 'Inception' (Collaborative Filtering):\n",
            "['(500) Days of Summer', '12 Angry Men', '12 Years a Slave', '1917', '2001: A Space Odyssey']\n",
            "\n",
            "Top 5 Movies in 'Comedy' Genre (Based on IMDB Rating):\n",
            "['Gisaengchung', 'La vita è bella', 'The Intouchables', 'Back to the Future', 'Modern Times']\n"
          ]
        }
      ]
    }
  ]
}